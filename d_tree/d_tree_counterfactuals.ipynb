{
 "cells": [
  {
   "cell_type": "code",
   "execution_count": 13,
   "id": "4fa7c86e",
   "metadata": {},
   "outputs": [],
   "source": [
    "from matplotlib import pyplot as plt\n",
    "import numpy as np\n",
    "import pandas as pd\n",
    "from sklearn import datasets\n",
    "from sklearn.tree import DecisionTreeClassifier \n",
    "from sklearn import tree\n",
    "\n",
    "from util import create_adv_example, unpack_tree"
   ]
  },
  {
   "cell_type": "code",
   "execution_count": 24,
   "id": "4401e6e9",
   "metadata": {},
   "outputs": [
    {
     "name": "stdout",
     "output_type": "stream",
     "text": [
      "        year  loan_amount  rate_of_interest  Interest_rate_spread  \\\n",
      "104725  2019       276500             3.990               -0.0280   \n",
      "22719   2019       646500             5.250                1.3976   \n",
      "119349  2019       276500             3.875                0.5677   \n",
      "95438   2019       216500             4.625                0.3412   \n",
      "47958   2019       506500             3.875               -0.1714   \n",
      "\n",
      "        Upfront_charges   term  property_value   income  Credit_Score  \\\n",
      "104725              0.0  360.0        308000.0   7020.0           839   \n",
      "22719           12360.0  360.0        928000.0  14640.0           544   \n",
      "119349           6950.0  180.0        418000.0  12780.0           812   \n",
      "95438            3430.0  360.0        278000.0   3480.0           757   \n",
      "47958            3125.0  360.0        638000.0   8220.0           664   \n",
      "\n",
      "              LTV  dtir1  status  \n",
      "104725  81.250000   37.0       1  \n",
      "22719   69.665948   29.0       0  \n",
      "119349  66.148325   30.0       0  \n",
      "95438   77.877698   49.0       0  \n",
      "47958   79.388715   30.0       0  \n"
     ]
    }
   ],
   "source": [
    "np.random.seed(0)\n",
    "\n",
    "num_classes = 2\n",
    "X = pd.read_csv(\n",
    "    \"https://raw.githubusercontent.com/gov-ind/datasets/main/loan_default_processed.csv\",\n",
    "    index_col=0\n",
    ")\n",
    "print(X.head())\n",
    "\n",
    "y = X['status']\n",
    "X = X.drop('status', axis=1)\n",
    "\n",
    "cols = X.columns\n",
    "\n",
    "X = np.array(X)\n",
    "y = np.array(y)\n",
    "\n",
    "clf = DecisionTreeClassifier(random_state=0)\n",
    "model = clf.fit(X, y)"
   ]
  },
  {
   "cell_type": "code",
   "execution_count": 25,
   "id": "897a57f1",
   "metadata": {},
   "outputs": [
    {
     "name": "stdout",
     "output_type": "stream",
     "text": [
      "Modified feature: rate_of_interest, Old: 3.99, New: 3.8115\n",
      "Modified feature: dtir1, Old: 37.0, New: 35.499\n"
     ]
    }
   ],
   "source": [
    "sample = X[0]\n",
    "actual_label = clf.predict([sample])[0]\n",
    "\n",
    "root, feature, threshold = unpack_tree(clf)\n",
    "target_cls = 0\n",
    "\n",
    "adv_sample = create_adv_example(\n",
    "    sample,\n",
    "    root,\n",
    "    feature,\n",
    "    threshold,\n",
    "    target_cls=target_cls\n",
    ")\n",
    "\n",
    "assert clf.predict([adv_sample])[0] == target_cls\n",
    "\n",
    "mask = sample != adv_sample\n",
    "\n",
    "for feature, v1, v2 in zip(cols[mask], sample[mask], adv_sample[mask]):\n",
    "    print(f\"Modified feature: {feature}, Old: {v1}, New: {v2}\")"
   ]
  },
  {
   "cell_type": "code",
   "execution_count": null,
   "id": "e7dd60fc",
   "metadata": {},
   "outputs": [],
   "source": []
  }
 ],
 "metadata": {
  "kernelspec": {
   "display_name": "Python 3 (ipykernel)",
   "language": "python",
   "name": "python3"
  },
  "language_info": {
   "codemirror_mode": {
    "name": "ipython",
    "version": 3
   },
   "file_extension": ".py",
   "mimetype": "text/x-python",
   "name": "python",
   "nbconvert_exporter": "python",
   "pygments_lexer": "ipython3",
   "version": "3.9.12"
  }
 },
 "nbformat": 4,
 "nbformat_minor": 5
}
